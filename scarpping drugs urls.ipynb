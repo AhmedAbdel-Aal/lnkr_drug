{
 "cells": [
  {
   "cell_type": "code",
   "execution_count": null,
   "metadata": {},
   "outputs": [],
   "source": [
    "import requests \n",
    "import pandas as pd\n",
    "import os\n",
    "from bs4 import BeautifulSoup\n",
    "import time\n",
    "from tqdm import tqdm\n",
    "import json\n",
    "from lxml import etree\n",
    "from urllib.parse import urljoin"
   ]
  },
  {
   "cell_type": "code",
   "execution_count": null,
   "metadata": {},
   "outputs": [],
   "source": [
    "class Drugs_links_collecter():\n",
    "    def __init__(self, start_char = 'a', end_char = 'z', drugs_char_childs_urls = {}, durgs_urls = {}):\n",
    "        self.base_url = 'https://www.drugs.com/'\n",
    "        self.start_char = start_char\n",
    "        self.end_char = end_char\n",
    "        \n",
    "        self.drugs_char_childs_urls = drugs_char_childs_urls\n",
    "        self.durgs_urls = durgs_urls\n",
    "        \n",
    "        \n",
    "    def reset_maxout(self):\n",
    "        self.request_maxout = 5\n",
    "        \n",
    "        \n",
    "    def get_dom(self, url):\n",
    "        self.reset_maxout()\n",
    "        while self.request_maxout != 0:\n",
    "            res = requests.get(url)\n",
    "            if res.status_code == 200: \n",
    "                html = BeautifulSoup(res.text, 'html.parser') \n",
    "                dom = etree.HTML(str(html))\n",
    "                return dom\n",
    "            else:\n",
    "                print(res.status_code)\n",
    "                self.request_maxout -= 1\n",
    "        raise Exception(\"couldn't request the needed page\")\n",
    "        \n",
    "    def get_char_childs(self):\n",
    "        for i in range(ord('a'), ord('z')+1):\n",
    "            char = chr(i)\n",
    "            self.drugs_char_childs_urls[char] = {}\n",
    "            print('getting childs of drugs starting with ',char)\n",
    "            dom = self.get_dom(self.base_url  + 'alpha/'+ char+'.html')\n",
    "            time.sleep(3)\n",
    "            p = '//*[@id=\"content\"]/div[2]/nav[1]/ul/li'\n",
    "            childs = dom.xpath(p)\n",
    "            childs_xpath = p + '[?]'\n",
    "    \n",
    "            for j in range(len(childs_xpath)):\n",
    "                xpath = childs_xpath.replace(\"?\",str(j))+\"/a\"\n",
    "                a_tags = dom.xpath(xpath)\n",
    "                if len(a_tags) > 0:\n",
    "                    a_tag = a_tags[0]\n",
    "                    name = a_tag.text\n",
    "                    url = a_tag.get(\"href\")\n",
    "                    self.drugs_char_childs_urls[char][name] =  url\n",
    "    \n",
    "    def get_char_urls(self, char):\n",
    "        for char_child in self.drugs_char_childs_urls[char].keys():\n",
    "            url = urljoin(self.base_url, self.drugs_char_childs_urls[char][char_child])\n",
    "            time.sleep(3)\n",
    "            dom = self.get_dom(url)\n",
    "            drugs_list_xpath = '//*[@id=\"content\"]/div[2]/ul/li'\n",
    "            drugs_list = dom.xpath(drugs_list_xpath)\n",
    "            drug_xpath = drugs_list_xpath + '[?]'\n",
    "            for i in range(len(drugs_list)):\n",
    "                xpath = drug_xpath.replace(\"?\",str(i))+\"/a\"\n",
    "                a_tags = dom.xpath(xpath)\n",
    "                if len(a_tags) > 0:\n",
    "                    a_tag = a_tags[0]\n",
    "                    name = a_tag.text\n",
    "                    url = a_tag.get(\"href\")\n",
    "                    self.durgs_urls[name] = urljoin(self.base_url, url)\n",
    "                    \n",
    "    def get_all_drugs(self):\n",
    "        for i in range(ord(self.start_char), ord(self.end_char)+1):\n",
    "            print('getting all drugs starting with ',chr(i))\n",
    "            self.get_char_urls(chr(i))\n",
    "    \n",
    "    def save_json(self, path = None):\n",
    "        for i, d in zip(['drugs_pages_urls', 'drugs_urls'], [self.drugs_char_childs_urls, self.durgs_urls]):\n",
    "            if path is not None:\n",
    "                full_path = os.path.join(path, + i +\".json\")\n",
    "            else:\n",
    "                full_path = i + \".json\"\n",
    "\n",
    "            jsonString = json.dumps(d)\n",
    "            jsonFile = open(full_path, \"w\")\n",
    "            jsonFile.write(jsonString)\n",
    "            jsonFile.close()"
   ]
  },
  {
   "cell_type": "code",
   "execution_count": null,
   "metadata": {},
   "outputs": [],
   "source": [
    "dlc = Drugs_links_collecter()"
   ]
  },
  {
   "cell_type": "code",
   "execution_count": null,
   "metadata": {},
   "outputs": [],
   "source": [
    "dlc.get_char_childs()"
   ]
  },
  {
   "cell_type": "code",
   "execution_count": null,
   "metadata": {},
   "outputs": [],
   "source": [
    "dlc.drugs_char_childs_urls"
   ]
  },
  {
   "cell_type": "code",
   "execution_count": null,
   "metadata": {},
   "outputs": [],
   "source": [
    "dlc.get_all_drugs()"
   ]
  },
  {
   "cell_type": "code",
   "execution_count": null,
   "metadata": {},
   "outputs": [],
   "source": [
    "len(dlc.durgs_urls.keys())"
   ]
  },
  {
   "cell_type": "code",
   "execution_count": null,
   "metadata": {},
   "outputs": [],
   "source": [
    "d = dlc.durgs_urls\n",
    "jsonString = json.dumps(d)\n",
    "jsonFile = open('./drugs/drugs_urls.json', \"w\")\n",
    "jsonFile.write(jsonString)\n",
    "jsonFile.close()"
   ]
  },
  {
   "cell_type": "code",
   "execution_count": null,
   "metadata": {},
   "outputs": [],
   "source": [
    "with open('./drugs/drugs_urls.json') as handle:\n",
    "    d = json.loads(handle.read())\n"
   ]
  },
  {
   "cell_type": "code",
   "execution_count": null,
   "metadata": {},
   "outputs": [],
   "source": [
    "len(d.keys())"
   ]
  },
  {
   "cell_type": "code",
   "execution_count": null,
   "metadata": {},
   "outputs": [],
   "source": [
    "d = dlc.drugs_char_childs_urls\n",
    "jsonString = json.dumps(d)\n",
    "jsonFile = open('./drugs/drugs_pages_urls.json', \"w\")\n",
    "jsonFile.write(jsonString)\n",
    "jsonFile.close()"
   ]
  }
 ],
 "metadata": {
  "kernelspec": {
   "display_name": "Python 3",
   "language": "python",
   "name": "python3"
  },
  "language_info": {
   "codemirror_mode": {
    "name": "ipython",
    "version": 3
   },
   "file_extension": ".py",
   "mimetype": "text/x-python",
   "name": "python",
   "nbconvert_exporter": "python",
   "pygments_lexer": "ipython3",
   "version": "3.7.6"
  }
 },
 "nbformat": 4,
 "nbformat_minor": 4
}
